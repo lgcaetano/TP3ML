{
 "cells": [
  {
   "cell_type": "markdown",
   "metadata": {
    "tags": []
   },
   "source": [
    "# Trabalho Final de Aprendizado de Máquina\n",
    "\n",
    "Este trabalho tem como um de seus objetivos construir um modelo de aprendizado de máquina para praticar e demonstrar os conceitos aprendidos em sala de aula.\n",
    "\n",
    "Alguns dos conceitos mais interessantes aprendidos em sala de aula se encontram na área de Processamento de Linguagem Natural, normalmente referida como NLP (de Natural Language Processing). Os modelos de aprendizado de máquina encontrados na área de NLP são capazes de classificar e fazer regressões sobre dados bem abstratos, que são compostos por palavras de linguagem natural. Isso torna o processo de aprendizado e representação do dado muito mais complexo. Por isso, este trabalho se destina a contruir um modelo de aprendizado de máquina capaz de reconhecer notícias falsas. Para este fim, foi utilizada uma base de dados de notícias na língua inglesa, que pode ser encontrada em [aqui](https://raw.githubusercontent.com/lgcaetano/TP3ML/master/news.csv), classificadas como verdadeiras ou falsas. A maioria das notícias utilizadas são realcionadas à política americana. No decorrer do trabalho foram realizados experimentos com diversos modelos para representação das notícias e classificação das representações para aperfeiçoar o modelo final, alguns destes experimentos também estão documentados no trabalho para melhor exntendimento dos conceitos e algoritmos utilizados."
   ]
  },
  {
   "cell_type": "markdown",
   "metadata": {},
   "source": [
    "## Construindo o modelo\n",
    "\n",
    "Para que possamos utilizar os algoritmos mais conhecidos para classificar as notícias, precismos de alguma forma representar seu conteúdo de forma matemática. A representação dos dados na verdade, é a parte mais complexa do problema, já que estamos tratando de um dado muito abstrato e que possui uma classificação abstrata, como as notícias podem ser classificadas como falsas ou verdadeiras. \n",
    "\n",
    "Uma das formas de representar texto matematicamente é através de um vetorizador TF-IDF, que recebe uma coleção de documentos (as notícias, neste caso) e os converte em um vetor ou matriz que pode ser utilizada como a entrada de um modelo de aprendizado qualquer. TF-IDF se refere a TF (term frequency) frequência de certo termo em certo documento, e IDF (inverted document frequency) que indica o quão incomum é o termo em todos os documentos. A multiplicação dessas duas razões dá o valor de certo termo na matriz que representa certo documento, ou seja termos que aparecem mais em certo documento do que em outros acabm tendo um alto valor TF-IDF associado.\n",
    "\n",
    "Também é possível utilizar vetorizadores mais simples como os algoritmos `CountVectorizer` e `HashingVectorizer`, que assim como `TfidfVectorizer`, são disponibilizados pela biblioteca `scikit-learn`. Estes algoritmos não consideram a infrequência de certo termo nos demais documentos, ao contrário dos vetorizadores TF-IDF. As três possibilidades de vetorizadores serão utilizadas e a performance do mesmo modelo com cada uma será comaprada\n",
    "\n",
    "Além disso, foram testados alguns modelos disponibilizados pelo `scikit-learn`, como `RandomForestClassifier` e `GradientBoostingClassifier` que são algoritmos considerados poderosos e resistentes a *overfitting*, e dentre os dois, o Random Forest apresentou resultados melhores, independentemente do vetorizador utilizado. "
   ]
  },
  {
   "cell_type": "code",
   "execution_count": 1,
   "metadata": {
    "colab": {
     "base_uri": "https://localhost:8080/"
    },
    "id": "O0Raf1VqbDAP",
    "outputId": "039b4c49-1033-435a-ffda-281b24e0dddf"
   },
   "outputs": [
    {
     "data": {
      "image/png": "[encoded data removed]",
      "text/plain": [
       "<Figure size 432x288 with 1 Axes>"
      ]
     },
     "metadata": {
      "needs_background": "light"
     },
     "output_type": "display_data"
    }
   ],
   "source": [
    "import pandas as pd\n",
    "import numpy as np\n",
    "import matplotlib.pyplot as plt\n",
    "from sklearn.model_selection import cross_val_score\n",
    "from sklearn.feature_extraction.text import TfidfVectorizer, HashingVectorizer, CountVectorizer\n",
    "from sklearn.preprocessing import FunctionTransformer\n",
    "from sklearn.pipeline import FeatureUnion, Pipeline\n",
    "from sklearn.ensemble import GradientBoostingClassifier\n",
    "from sklearn.ensemble import RandomForestClassifier\n",
    "from sklearn.cluster import KMeans\n",
    "from sklearn.metrics import homogeneity_score, completeness_score, v_measure_score\n",
    "\n",
    "\n",
    "dataframe = pd.read_csv(\"https://raw.githubusercontent.com/lgcaetano/TP3ML/master/news.csv\")\n",
    "\n",
    "raw_x_data = dataframe['text'] + dataframe['title']\n",
    "y_data = dataframe['label']\n",
    "\n",
    "tfidf_vectorizer = TfidfVectorizer(max_df=0.3)\n",
    "hash_vectorizer = HashingVectorizer()\n",
    "count_vectorizer = CountVectorizer()\n",
    "\n",
    "tfidf_vectorizer.fit(dataframe['text'])\n",
    "hash_vectorizer.fit(dataframe['text'])\n",
    "count_vectorizer.fit(dataframe['text'])\n",
    "tfidf_vectorizer.fit(dataframe['title'])\n",
    "hash_vectorizer.fit(dataframe['title'])\n",
    "count_vectorizer.fit(dataframe['title'])\n",
    "\n",
    "def generate_transformer(vectorizer):\n",
    "    return FeatureUnion([('title_tfidf', Pipeline([('extract_field', FunctionTransformer(lambda x: x['title'], validate=False)), ('tfidf', vectorizer)])),\n",
    "                         ('text_tfidf', Pipeline([('extract_field', FunctionTransformer(lambda x: x['text'], validate=False)), ('tfidf', vectorizer)]))])\n",
    "\n",
    "tfidf_transformer = generate_transformer(tfidf_vectorizer)\n",
    "count_transformer = generate_transformer(count_vectorizer)\n",
    "hash_transformer = generate_transformer(count_vectorizer)\n",
    "\n",
    "tfidf_x = tfidf_transformer.transform(dataframe)\n",
    "count_x = count_transformer.transform(dataframe)\n",
    "hash_x = hash_transformer.transform(dataframe)\n",
    "\n",
    "rf_clf = RandomForestClassifier(n_estimators=100)\n",
    "gb_clf = GradientBoostingClassifier(n_estimators=50)\n",
    "\n",
    "def cross_validate(model, x):\n",
    "    return cross_val_score(model, x, y_data, cv=5).mean()\n",
    "\n",
    "def print_name_score(name, score):\n",
    "    print(f'{name}: {score}')\n",
    "\n",
    "def validate_print(model, name, x):\n",
    "    print_name_score(name, cross_validate(model, x))\n",
    "\n",
    "def bar_plot_results(xlabel, ylabel, bar_labels, scores, color=\"green\"):\n",
    "    plt.xlabel(xlabel)\n",
    "    plt.ylabel(ylabel)\n",
    "    plt.bar(bar_labels, scores, color=color)\n",
    "    plt.gca().set_ylim([0.5, 1])\n",
    "    for i, s in enumerate(scores):\n",
    "        plt.text(i - 0.1, s + 0.01, f\"{round(s * 100, 2)}%\")\n",
    "    plt.show()\n",
    "\n",
    "vectorizer_labels = [\"TF-IDF\", \"Hash\", \"Count\"]\n",
    "rf_tfidf_score = cross_validate(rf_clf, tfidf_x)\n",
    "rf_hash_score = cross_validate(rf_clf, hash_x)\n",
    "rf_count_score = cross_validate(rf_clf, count_x)\n",
    "vectorizer_scores = [rf_tfidf_score, rf_hash_score, rf_count_score]\n",
    "\n",
    "bar_plot_results(\"Vetorizadores\", \"Acurácia do modelo\", vectorizer_labels, vectorizer_scores)"
   ]
  },
  {
   "cell_type": "markdown",
   "metadata": {
    "tags": []
   },
   "source": [
    "### Analisando o resultado\n",
    "\n",
    "Como se pode ver na figura, o algoritmo apresenta boa acurácia independentemente do vetorizador utilizado, o que indica que a vantagem teórica do vetorizador TF-IDF de considerar a frequência relativa dos termos não trouxe grandes benefícios para a representação."
   ]
  },
  {
   "cell_type": "markdown",
   "metadata": {},
   "source": [
    "### Tentando aprimorar a representação\n",
    "\n",
    "Apesar de apresentarem formas interessantes de representar texto, os vetorizadores mencionados não são capazes de reconhecer qualquer tipo de relação entre as palavras de um texto, representam apenas a frequência delas, seja ela relativa ou não. Isso acaba limitando muito o algoritmo, ainda mais considerando que estamos lidando com dados de linguagem natural, já que a informação muitas vezes é somente encontrada na relação entre as palavras.\n",
    "\n",
    "Por causa disso, foi buscada uma forma diferente de representar as notícias da base de dados. Um dos algoritmos mais famosos para representação de **palavras** é o `word2vec`. Este algoritmo encontra representações para as palavras através de uma rede neural que tem como pesos as representações vetoriais das palavras. O modelo recebe um contexto (uma frase incompleta) como parâmetro e tenta predizer qual será a próxima palavra no contexto. Ao fazer as correções no treino, o modelo ajusta as representações de tal forma que modelos semanticamente próximos também possuam representações matematicamente próximas. Por exemplo, as palavras cão e gato provavelmente possuem representações parecidas, já que consistem em duas espécies de animais de estimação, são conceitos que possuem similaridade e que aparecem em contextos semelhantes no universo da linguagem natural.\n",
    "\n",
    "Contudo, como não estamos lidando com palavras, o `word2vec` não é suficiente. Para conseguirmos uma representação para os documentos, precisamos usar o `doc2vec` que funciona de forma extremamente similar ao `word2vec` e foi criado pelas mesmas pessoas. Para representar o documento é adicionado outro vetor de representação ao algoritmo `word2vec` que representa o próprio documento. Este vetor é ajustado no treinamento assim como os vetores de palavras e ao final do treinamento, se tem uma representação para o documento.\n",
    "\n",
    "Após utilizarmos a representação do `doc2vec`, compararemos a performance do algoritmo Random Forest com a sua representação com a performance com a representação dada pelo vetorizador TF-IDF."
   ]
  },
  {
   "cell_type": "code",
   "execution_count": 2,
   "metadata": {
    "colab": {
     "base_uri": "https://localhost:8080/"
    },
    "id": "2Jog-LMvt1Pl",
    "outputId": "ef7ad39d-66e4-4724-cab4-17e17eef4eaa"
   },
   "outputs": [
    {
     "name": "stderr",
     "output_type": "stream",
     "text": [
      "[nltk_data] Downloading package punkt to /home/lgcaetano/nltk_data...\n",
      "[nltk_data]   Package punkt is already up-to-date!\n",
      "100%|███████████████████████████████████████████████████████████████████████████| 6335/6335 [00:00<00:00, 752440.06it/s]\n",
      "100%|██████████████████████████████████████████████████████████████████████████| 6335/6335 [00:00<00:00, 1469386.49it/s]\n"
     ]
    },
    {
     "data": {
      "image/png": "[encoded data removed]",
      "text/plain": [
       "<Figure size 432x288 with 1 Axes>"
      ]
     },
     "metadata": {
      "needs_background": "light"
     },
     "output_type": "display_data"
    }
   ],
   "source": [
    "import multiprocessing\n",
    "from gensim.models import Doc2Vec\n",
    "from gensim.models.doc2vec import TaggedDocument\n",
    "from sklearn import utils\n",
    "from tqdm import tqdm\n",
    "import nltk\n",
    "from nltk.corpus import stopwords\n",
    "nltk.download('punkt')\n",
    "\n",
    "\n",
    "def tokenize_text(text):\n",
    "    tokens = []\n",
    "    for sent in nltk.sent_tokenize(text):\n",
    "        for word in nltk.word_tokenize(sent):\n",
    "            if len(word) < 2:\n",
    "                continue\n",
    "            tokens.append(word.lower())\n",
    "    return tokens\n",
    "\n",
    "\n",
    "cores = multiprocessing.cpu_count()\n",
    "\n",
    "def get_tagged_x_data(df):\n",
    "    return df.apply(lambda d: TaggedDocument(words=tokenize_text(d['text']), tags=[d.label]), axis=1)\n",
    "\n",
    "tagged_x_data = get_tagged_x_data(dataframe)\n",
    "\n",
    "d2v_model = Doc2Vec(dm=0, vector_size=300, negative=5, hs=0, min_count=2, workers=cores)\n",
    "d2v_model.build_vocab([x for x in tqdm(tagged_x_data.values)])\n",
    "\n",
    "d2v_model.train(utils.shuffle([x for x in tqdm(tagged_x_data.values)]), total_examples=len(tagged_x_data.values), epochs=10)\n",
    "\n",
    "def vec_for_learning(model, tagged_docs):\n",
    "    sents = tagged_docs.values\n",
    "    # targets, regressors = zip(*[(doc.tags[0], model.infer_vector(doc.words)) for doc in sents])\n",
    "    regressors = [model.infer_vector(doc.words) for doc in sents]\n",
    "    return regressors\n",
    "\n",
    "doc2vec_x = vec_for_learning(d2v_model, tagged_x_data)\n",
    "\n",
    "# validate_print(rf_clf, \"DOC2VEC RF: \", doc2vec_x)\n",
    "\n",
    "rf_d2v_score = cross_validate(rf_clf, doc2vec_x)\n",
    "\n",
    "doc2vec_labels = [\"TF-IDF\", \"Doc2Vec\"]\n",
    "doc2vec_scores = [rf_tfidf_score, rf_d2v_score]\n",
    "\n",
    "bar_plot_results(\"Representações dos documentos\", \"Acurácia do modelo\", doc2vec_labels, doc2vec_scores, color=\"blue\")\n",
    "\n"
   ]
  },
  {
   "cell_type": "markdown",
   "metadata": {},
   "source": [
    "### Analisando resultado do experimento\n",
    "\n",
    "Como pode ser visto no gráfico, o uso da representação dada pelo `doc2vec` trás benefícios significativos ao nosso modelo, reduzindo a taxa de erro consideravelmente, enquanto a taxa de erro com o TF-IDF girava em torno de 10%, com o Doc2Vec, essa taxa tende a ficar próxima de 5%. Isso mostra a superioridade do Doc2Vec, que consegue gerar representações mais úteis dos documentos.\n",
    "\n",
    "Vale ressaltar que os resultados usando `doc2vec` foram ainda melhores utilizando outros hiperparâmetros na sua configuração, mas o uso destas se tornou inviável devido ao gasto excessivo de tempo para execução."
   ]
  },
  {
   "cell_type": "markdown",
   "metadata": {},
   "source": [
    "### Usando XGBoost\n",
    "\n",
    "Ainda que os resultados apresentados combinando a representação do `doc2vec` com o algoritmo Random Forest tenham sido bons, com acurácia girando em torno dos 95%, o ideal seria aumentar ainda mais esta estatística. Afinal, a proposta deste trabalho é criar um modelo que seja capaz de classificar notícias como falsas ou verdadeiras, definitivamente estamos lidando com um assunto sensível, o que torna a acurácia do nosso algoritmo algo mais crítico. Se este modelo fosse utilizado em uma situação real e cometesse um erro, as consequências poderiam ser drásticas. \n",
    "\n",
    "É com esse propósito que foi introduzido o XGBoost, de *Extreme Gradient Boosting*, um algoritmo de *boosting* que usa de técnicas inteligentes de regularização e *feature selection* que fazem com que ele geralmente tenha performance melhor que a de outros algoritmos. O XGBoost ganhou notoriedade recentemente por ter sido utilizado por diversos projetos vencedores de competições de aprendizado de máquina.\n",
    "\n",
    "Para verificar se o XGBoost de fato nos dá uma vantagem em relação ao Random Forest"
   ]
  },
  {
   "cell_type": "code",
   "execution_count": 3,
   "metadata": {},
   "outputs": [
    {
     "data": {
      "image/png": "[encoded data removed]",
      "text/plain": [
       "<Figure size 432x288 with 1 Axes>"
      ]
     },
     "metadata": {
      "needs_background": "light"
     },
     "output_type": "display_data"
    }
   ],
   "source": [
    "from sklearn.preprocessing import LabelEncoder\n",
    "import xgboost as xgb\n",
    "\n",
    "label_encoder = LabelEncoder()\n",
    "\n",
    "xgb_y = label_encoder.fit_transform(y_data)\n",
    "\n",
    "xgb_clf = xgb.XGBClassifier()\n",
    "\n",
    "xgb_score = cross_val_score(xgb_clf, doc2vec_x, xgb_y, cv=5).mean()\n",
    "\n",
    "xgb_labels = [\"Random Forest\", \"XGBoost\"]\n",
    "xgb_scores = [rf_d2v_score, xgb_score]\n",
    "\n",
    "bar_plot_results(\"Algoritmo utilizado\", \"Acurácia do modelo\", xgb_labels, xgb_scores, color=\"orange\")\n",
    "\n",
    "# xgb_clf.fit(doc2vec_x, xgb_y)\n"
   ]
  },
  {
   "cell_type": "markdown",
   "metadata": {},
   "source": [
    "### Analisando resultados\n",
    "\n",
    "Como pode ser observado no gráfico acima, a utilização do XGBoost de fato trás uma melhoria na acurácia do algoritmo, ainda que não pareça muito expressiva em termos absolutos. Considerando que a acurácia do modelo usando o XGBoost gira em torno de 96% contra 95% usando Random Forest, temos uma redução que gira em torno de 20% na taxa de erro, uma melhora substancial."
   ]
  },
  {
   "cell_type": "markdown",
   "metadata": {},
   "source": [
    "## Demonstração do modelo final\n",
    "\n",
    "Como os experimentos determinaram, a melhor combinação encontrada de representação dos dados e algritmo de classificação foi: `doc2vec` + `xgboost`, o que não é surpreendente considerando que as duas bibliotecas são muito utilizadas. Esta combinação será utilizada no nosso modelo final, para ser utilizada com novos exemplos."
   ]
  },
  {
   "cell_type": "code",
   "execution_count": 16,
   "metadata": {},
   "outputs": [],
   "source": [
    "# class FinalModel:\n",
    "#     def __init__(self):\n",
    "#         self.model = xgb.XGBClassifier\n",
    "#         self.doc2vec = Doc2Vec(dm=0, vector_size=300, negative=5, hs=0, min_count=2, sample = 0, workers=cores)\n",
    "#     def fit(X, Y, text_selector=lambda d: d['text']):\n",
    "#         self.doc2vec.build_vocab([x for x in tqdm(X.values)])\n",
    "#         self.doc2vec.train(utils.shuffle([x for x in tqdm(X.values)]), total_examples=len(tagged_x_data.values), epochs=10)\n",
    "from sklearn.model_selection import train_test_split\n",
    "from random import randint\n",
    "\n",
    "text_vec_pairs = []\n",
    "\n",
    "for i in range(len(doc2vec_x)):\n",
    "    text_vec_pairs.append((dataframe['title'][i], dataframe['text'][i], doc2vec_x[i]))\n",
    "    \n",
    "\n",
    "X_train, X_test, Y_train, Y_test = train_test_split(text_vec_pairs, xgb_y, test_size=0.1, random_state=97)\n",
    "\n",
    "\n",
    "xgb_clf.fit([x[2] for x in X_train], Y_train)\n",
    "final_model = xgb_clf\n",
    "\n",
    "def predict_random_test_sample():\n",
    "    random_index = randint(0, len(X_test) - 1)\n",
    "    sample = X_test[random_index]\n",
    "    ans = label_encoder.inverse_transform(final_model.predict([sample[2]]))[0]\n",
    "    correct_ans = label_encoder.inverse_transform([Y_test[random_index]])[0]\n",
    "    print(f'Original Title: {sample[0]}\\nOriginal Text: {sample[1]}\\nModel prediction: {ans}\\nCorrect answer: {correct_ans}')\n",
    "    return ans == correct_ans\n",
    "\n",
    "\n",
    "    \n"
   ]
  },
  {
   "cell_type": "markdown",
   "metadata": {},
   "source": [
    "### Demonstração\n",
    "\n",
    "Para executar uma predição do modelo sobre um exemplo de teste aleatório, basta executar a célula a seguir. Se a célula anterior for executada, o dataset será separado novamente entre dados de treino e de teste e o modelo será retreinado, assim, pode-se obter outros exemplos para serem utilizados como teste na célula a seguir."
   ]
  },
  {
   "cell_type": "code",
   "execution_count": 46,
   "metadata": {},
   "outputs": [
    {
     "name": "stdout",
     "output_type": "stream",
     "text": [
      "Original Title: NO jail time for Muslim migrant who DUMPED BABY in road and left it for dead\n",
      "Original Text: This is now becoming the norm. Just yesterday, I reported on a Muslim migrant who anally raped a 10-year-old boy and had his conviction overturned because “he didn’t know the boy didn’t want to be raped.” \n",
      "Islamic supremacism in the West. \n",
      "“No jail time for asylum seeker who dumped baby in road,” The Local, 19 Oct 2016: \n",
      "A man who was furious at being thrown out of an asylum centre grabbed his own child and dumped her in the middle of a busy road – and has been given a nine-month suspended sentence. \n",
      "The 27-year-old had been living in an asylum centre in Vienna’s Floridsdorf district and had already been given several warnings for being drunk and violent. \n",
      "So when he turned up again intoxicated with a beer in his hand and was told to leave, he flew into a furious rage. \n",
      "Spotting his baby daughter in a pram nearby, he grabbed her and ran into the busy road, and put her in the middle of a traffic lane. \n",
      "The man’s lawyer denied however that he wanted to cause the child any harm, saying he wanted to take a photograph of her to indicate that they had been thrown out onto the street. \n",
      "The child was saved when police officers arrived a short while later. \n",
      "The court heard that\n",
      "Model prediction: FAKE\n",
      "Correct answer: FAKE\n",
      "MODELO ACERTOU\n"
     ]
    }
   ],
   "source": [
    "print(f'MODELO {\"ACERTOU\" if predict_random_test_sample() else \"ERROU\"}')"
   ]
  },
  {
   "cell_type": "code",
   "execution_count": null,
   "metadata": {},
   "outputs": [],
   "source": []
  }
 ],
 "metadata": {
  "colab": {
   "collapsed_sections": [],
   "name": "TP3.ipynb",
   "provenance": []
  },
  "kernelspec": {
   "display_name": "Python 3 (ipykernel)",
   "language": "python",
   "name": "python3"
  },
  "language_info": {
   "codemirror_mode": {
    "name": "ipython",
    "version": 3
   },
   "file_extension": ".py",
   "mimetype": "text/x-python",
   "name": "python",
   "nbconvert_exporter": "python",
   "pygments_lexer": "ipython3",
   "version": "3.8.10"
  }
 },
 "nbformat": 4,
 "nbformat_minor": 4
}
